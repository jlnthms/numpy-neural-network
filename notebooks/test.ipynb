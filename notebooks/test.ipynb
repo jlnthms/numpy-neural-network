{
 "cells": [
  {
   "cell_type": "markdown",
   "source": [
    "# TRAINING THE NETWORK\n",
    "\n",
    "Let us train the Multi-layer perceptron on real-world data: The MNIST dataset is a very widely used base of\n",
    "handwritten digits images to benchmark machine learning models and image processing systems. The purpose here\n",
    "is not to fine-tune the model to achieve a certain degree of performance but simply to make sure it works as expected."
   ],
   "metadata": {
    "collapsed": false
   }
  },
  {
   "cell_type": "code",
   "execution_count": 11,
   "metadata": {
    "collapsed": true,
    "ExecuteTime": {
     "end_time": "2023-10-10T22:31:12.827786Z",
     "start_time": "2023-10-10T22:31:12.792351Z"
    }
   },
   "outputs": [],
   "source": [
    "import sys\n",
    "\n",
    "from NeuralNetwork.network import MultiLayerPerceptron\n",
    "from NeuralNetwork.optimizer import *"
   ]
  },
  {
   "cell_type": "code",
   "execution_count": 12,
   "outputs": [],
   "source": [
    "mlp = MultiLayerPerceptron([Layer(64), Layer(64, 'relu'), Layer(10, 'softmax')])\n",
    "optimizer = SGD(learning_rate=0.001)\n",
    "mlp.he_init()"
   ],
   "metadata": {
    "collapsed": false,
    "ExecuteTime": {
     "end_time": "2023-10-10T22:31:12.843111Z",
     "start_time": "2023-10-10T22:31:12.797181Z"
    }
   }
  },
  {
   "cell_type": "markdown",
   "source": [
    "___\n",
    "## LOADING THE DATA\n",
    "\n",
    "Let us use a simplified sample of the actual MNIST database. It consists of 1797 instances picked among the 70K ones\n",
    "from the original dataset, dimensionality is reduced to 8x8 (instead of 28x28) which makes a total of 64 inputs. We use Scikit-Learn to load the data and split it into training and testing sets."
   ],
   "metadata": {
    "collapsed": false
   }
  },
  {
   "cell_type": "code",
   "execution_count": 13,
   "outputs": [],
   "source": [
    "from sklearn import datasets\n",
    "from sklearn.model_selection import train_test_split\n",
    "import matplotlib.pyplot as plt"
   ],
   "metadata": {
    "collapsed": false,
    "ExecuteTime": {
     "end_time": "2023-10-10T22:31:12.843389Z",
     "start_time": "2023-10-10T22:31:12.806416Z"
    }
   }
  },
  {
   "cell_type": "code",
   "execution_count": 14,
   "outputs": [
    {
     "data": {
      "text/plain": "<Figure size 1000x300 with 4 Axes>",
      "image/png": "[encoded data removed]"
     },
     "metadata": {},
     "output_type": "display_data"
    }
   ],
   "source": [
    "digits = datasets.load_digits()\n",
    "\n",
    "_, axes = plt.subplots(nrows=1, ncols=4, figsize=(10, 3))\n",
    "for ax, image, label in zip(axes, digits.images, digits.target):\n",
    "    ax.set_axis_off()\n",
    "    ax.imshow(image, cmap=plt.cm.gray_r, interpolation=\"nearest\")\n",
    "    ax.set_title(\"Training: %i\" % label)"
   ],
   "metadata": {
    "collapsed": false,
    "ExecuteTime": {
     "end_time": "2023-10-10T22:31:12.948763Z",
     "start_time": "2023-10-10T22:31:12.816620Z"
    }
   }
  },
  {
   "cell_type": "markdown",
   "source": [
    "Example of digits from the training set."
   ],
   "metadata": {
    "collapsed": false
   }
  },
  {
   "cell_type": "code",
   "execution_count": 15,
   "outputs": [],
   "source": [
    "# flatten the images\n",
    "n_samples = len(digits.images)\n",
    "data = digits.images.reshape((n_samples, -1))\n",
    "\n",
    "# Split data into 50% train and 50% test subsets\n",
    "X_train, X_test, y_train, y_test = train_test_split(\n",
    "    data, digits.target, test_size=0.5, shuffle=False\n",
    ")"
   ],
   "metadata": {
    "collapsed": false,
    "ExecuteTime": {
     "end_time": "2023-10-10T22:31:12.953677Z",
     "start_time": "2023-10-10T22:31:12.950998Z"
    }
   }
  },
  {
   "cell_type": "markdown",
   "source": [
    "Remember the labels must be one-hot encoded for the comparison with model's predictions to be accurate otherwise it won't simply learn anything (original labels are scalar values and must be converted)."
   ],
   "metadata": {
    "collapsed": false
   }
  },
  {
   "cell_type": "code",
   "execution_count": 16,
   "outputs": [],
   "source": [
    "from sklearn.preprocessing import LabelBinarizer\n",
    "\n",
    "label_binarizer = LabelBinarizer()\n",
    "\n",
    "y_train_one_hot = label_binarizer.fit_transform(y_train)\n",
    "y_test_one_hot = label_binarizer.transform(y_test)"
   ],
   "metadata": {
    "collapsed": false,
    "ExecuteTime": {
     "end_time": "2023-10-10T22:31:12.961590Z",
     "start_time": "2023-10-10T22:31:12.955109Z"
    }
   }
  },
  {
   "cell_type": "markdown",
   "source": [
    "Now we can train the neural network:"
   ],
   "metadata": {
    "collapsed": false
   }
  },
  {
   "cell_type": "code",
   "execution_count": 17,
   "outputs": [
    {
     "name": "stderr",
     "output_type": "stream",
     "text": [
      "100%|██████████| 50/50 [00:57<00:00,  1.15s/it]\n"
     ]
    }
   ],
   "source": [
    "from tqdm import tqdm\n",
    "\n",
    "epochs = 50\n",
    "loss_values = []\n",
    "for i in tqdm(range(epochs)):\n",
    "    loss = 0.0\n",
    "    for X, y in zip(X_train, y_train_one_hot):\n",
    "        mlp.forward(X)\n",
    "        loss += cross_entropy(mlp.layers[-1].get_output(), y)\n",
    "        grads_w, grads_b = mlp.backward(y)\n",
    "        optimizer.step(mlp.layers, grads_w, grads_b)\n",
    "    loss /= len(X_train)\n",
    "    #print('Epoch ', i, ' - Average loss = ', loss)\n",
    "    loss_values.append(loss)"
   ],
   "metadata": {
    "collapsed": false,
    "ExecuteTime": {
     "end_time": "2023-10-10T22:32:10.339340Z",
     "start_time": "2023-10-10T22:31:12.964225Z"
    }
   }
  },
  {
   "cell_type": "markdown",
   "source": [
    "And visualize the learning curve. It appears the model is learning correctly. The network is probably overfitting at this point, however this validates the implementation."
   ],
   "metadata": {
    "collapsed": false
   }
  },
  {
   "cell_type": "code",
   "execution_count": 18,
   "outputs": [
    {
     "data": {
      "text/plain": "<Figure size 640x480 with 1 Axes>",
      "image/png": "[encoded data removed]"
     },
     "metadata": {},
     "output_type": "display_data"
    }
   ],
   "source": [
    "import matplotlib.pyplot as plt\n",
    "\n",
    "def plot_curve(loss_val):\n",
    "    plt.plot(loss_val, label='Training Loss')\n",
    "    plt.xlabel('Epochs')\n",
    "    plt.ylabel('Loss')\n",
    "    plt.title('Training Loss Over Epochs')\n",
    "    plt.legend()\n",
    "\n",
    "    plt.show()\n",
    "\n",
    "plot_curve(loss_values)"
   ],
   "metadata": {
    "collapsed": false,
    "ExecuteTime": {
     "end_time": "2023-10-10T22:32:10.477204Z",
     "start_time": "2023-10-10T22:32:10.349031Z"
    }
   }
  },
  {
   "cell_type": "code",
   "execution_count": 20,
   "outputs": [
    {
     "name": "stdout",
     "output_type": "stream",
     "text": [
      "The neural network has an accuracy of: 91%\n"
     ]
    }
   ],
   "source": [
    "correct_predictions = 0\n",
    "for n in range(len(X_test)):\n",
    "    mlp.forward(X_test[n])\n",
    "    if np.argmax(softmax(mlp.layers[-1].get_output())) == y_test[n]:\n",
    "        correct_predictions += 1\n",
    "accuracy = (correct_predictions / len(X_test)) * 100\n",
    "print(f\"The neural network has an accuracy of: {round(accuracy)}%\")\n"
   ],
   "metadata": {
    "collapsed": false,
    "ExecuteTime": {
     "end_time": "2023-10-10T22:32:53.408150Z",
     "start_time": "2023-10-10T22:32:52.737017Z"
    }
   }
  },
  {
   "cell_type": "code",
   "execution_count": null,
   "outputs": [],
   "source": [],
   "metadata": {
    "collapsed": false
   }
  }
 ],
 "metadata": {
  "kernelspec": {
   "display_name": "Python 3",
   "language": "python",
   "name": "python3"
  },
  "language_info": {
   "codemirror_mode": {
    "name": "ipython",
    "version": 2
   },
   "file_extension": ".py",
   "mimetype": "text/x-python",
   "name": "python",
   "nbconvert_exporter": "python",
   "pygments_lexer": "ipython2",
   "version": "2.7.6"
  }
 },
 "nbformat": 4,
 "nbformat_minor": 0
}
