{
 "cells": [
  {
   "cell_type": "markdown",
   "source": [
    "# TRAINING THE NETWORK\n",
    "\n",
    "Let us train the Multi-layer perceptron on real-world data: The MNIST dataset is a very widely used base of\n",
    "handwritten digits images to benchmark machine learning models and image processing systems. The purpose here\n",
    "is not to fine-tune the model to achieve a certain degree of performance but simply to make sure it works as expected."
   ],
   "metadata": {
    "collapsed": false
   }
  },
  {
   "cell_type": "code",
   "execution_count": 1,
   "metadata": {
    "collapsed": true
   },
   "outputs": [],
   "source": [
    "from NeuralNetwork.network import MultiLayerPerceptron\n",
    "from NeuralNetwork.optimizer import *"
   ]
  },
  {
   "cell_type": "code",
   "execution_count": 2,
   "outputs": [],
   "source": [
    "mlp = MultiLayerPerceptron([Layer(64), Layer(64, 'relu'), Layer(10, 'softmax')])\n",
    "optimizer = SGD(learning_rate=0.001)\n",
    "mlp.he_init()"
   ],
   "metadata": {
    "collapsed": false
   }
  },
  {
   "cell_type": "markdown",
   "source": [
    "___\n",
    "## LOADING THE DATA\n",
    "\n",
    "Let us use a simplified sample of the actual MNIST database. It consists of 1797 instances picked among the 70K ones\n",
    "from the original dataset, dimensionality is reduced to 8x8 (instead of 28x28) which makes a total of 64 inputs. We use Scikit-Learn to load the data and split it into training and testing sets."
   ],
   "metadata": {
    "collapsed": false
   }
  },
  {
   "cell_type": "code",
   "execution_count": 4,
   "outputs": [],
   "source": [
    "from sklearn import datasets\n",
    "from sklearn.model_selection import train_test_split\n",
    "import matplotlib.pyplot as plt"
   ],
   "metadata": {
    "collapsed": false
   }
  },
  {
   "cell_type": "code",
   "execution_count": 5,
   "outputs": [
    {
     "data": {
      "text/plain": "<Figure size 1000x300 with 4 Axes>",
      "image/png": "[encoded data removed]"
     },
     "metadata": {},
     "output_type": "display_data"
    }
   ],
   "source": [
    "digits = datasets.load_digits()\n",
    "\n",
    "_, axes = plt.subplots(nrows=1, ncols=4, figsize=(10, 3))\n",
    "for ax, image, label in zip(axes, digits.images, digits.target):\n",
    "    ax.set_axis_off()\n",
    "    ax.imshow(image, cmap=plt.cm.gray_r, interpolation=\"nearest\")\n",
    "    ax.set_title(\"Training: %i\" % label)"
   ],
   "metadata": {
    "collapsed": false
   }
  },
  {
   "cell_type": "markdown",
   "source": [
    "Example of digits from the training set."
   ],
   "metadata": {
    "collapsed": false
   }
  },
  {
   "cell_type": "code",
   "execution_count": 6,
   "outputs": [],
   "source": [
    "# flatten the images\n",
    "n_samples = len(digits.images)\n",
    "data = digits.images.reshape((n_samples, -1))\n",
    "\n",
    "# Split data into 50% train and 50% test subsets\n",
    "X_train, X_test, y_train, y_test = train_test_split(\n",
    "    data, digits.target, test_size=0.5, shuffle=False\n",
    ")"
   ],
   "metadata": {
    "collapsed": false
   }
  },
  {
   "cell_type": "markdown",
   "source": [
    "Remember the labels must be one-hot encoded for the comparison with model's predictions to be accurate otherwise it won't simply learn anything (original labels are scalar values and must be converted)."
   ],
   "metadata": {
    "collapsed": false
   }
  },
  {
   "cell_type": "code",
   "execution_count": 7,
   "outputs": [],
   "source": [
    "from sklearn.preprocessing import LabelBinarizer\n",
    "\n",
    "label_binarizer = LabelBinarizer()\n",
    "\n",
    "y_train_one_hot = label_binarizer.fit_transform(y_train)\n",
    "y_test_one_hot = label_binarizer.transform(y_test)"
   ],
   "metadata": {
    "collapsed": false
   }
  },
  {
   "cell_type": "code",
   "execution_count": 8,
   "outputs": [
    {
     "name": "stdout",
     "output_type": "stream",
     "text": [
      "Epoch  0  - Average loss =  2.3655527998813755\n",
      "Epoch  1  - Average loss =  0.5079542081925157\n",
      "Epoch  2  - Average loss =  0.2940916090485239\n",
      "Epoch  3  - Average loss =  0.21402918093642906\n",
      "Epoch  4  - Average loss =  0.16211463166473206\n",
      "Epoch  5  - Average loss =  0.1341451256610878\n",
      "Epoch  6  - Average loss =  0.11531639319618275\n",
      "Epoch  7  - Average loss =  0.1029561327798804\n",
      "Epoch  8  - Average loss =  0.0921416855655675\n",
      "Epoch  9  - Average loss =  0.08257501911354298\n",
      "Epoch  10  - Average loss =  0.07395815584090425\n",
      "Epoch  11  - Average loss =  0.06648426203087296\n",
      "Epoch  12  - Average loss =  0.05999547728365263\n",
      "Epoch  13  - Average loss =  0.05450304690923461\n",
      "Epoch  14  - Average loss =  0.04994680131706209\n",
      "Epoch  15  - Average loss =  0.04624498931222353\n",
      "Epoch  16  - Average loss =  0.04312246028619276\n",
      "Epoch  17  - Average loss =  0.040634771871104834\n",
      "Epoch  18  - Average loss =  0.03838841675822965\n",
      "Epoch  19  - Average loss =  0.035951540618571566\n",
      "Epoch  20  - Average loss =  0.033225266949478936\n",
      "Epoch  21  - Average loss =  0.030589856871504454\n",
      "Epoch  22  - Average loss =  0.02805128022940388\n",
      "Epoch  23  - Average loss =  0.02562398510564676\n",
      "Epoch  24  - Average loss =  0.023434317900631243\n",
      "Epoch  25  - Average loss =  0.021554550739602094\n",
      "Epoch  26  - Average loss =  0.01995466260530059\n",
      "Epoch  27  - Average loss =  0.018536440247478712\n",
      "Epoch  28  - Average loss =  0.01726721983918446\n",
      "Epoch  29  - Average loss =  0.016131976221741486\n",
      "Epoch  30  - Average loss =  0.015129692028840812\n",
      "Epoch  31  - Average loss =  0.014263753951018511\n",
      "Epoch  32  - Average loss =  0.013510773067181665\n",
      "Epoch  33  - Average loss =  0.012857594682798597\n",
      "Epoch  34  - Average loss =  0.0122897487020966\n",
      "Epoch  35  - Average loss =  0.011791700687946818\n",
      "Epoch  36  - Average loss =  0.011347613953885519\n",
      "Epoch  37  - Average loss =  0.01094751899155953\n",
      "Epoch  38  - Average loss =  0.010583146324859113\n",
      "Epoch  39  - Average loss =  0.010246497680554991\n",
      "Epoch  40  - Average loss =  0.009933285802270606\n",
      "Epoch  41  - Average loss =  0.009639098799318417\n",
      "Epoch  42  - Average loss =  0.009363178923433024\n",
      "Epoch  43  - Average loss =  0.009105090950238965\n",
      "Epoch  44  - Average loss =  0.008859353637017515\n",
      "Epoch  45  - Average loss =  0.008625583301154753\n",
      "Epoch  46  - Average loss =  0.008400523124312012\n",
      "Epoch  47  - Average loss =  0.008183448767237185\n",
      "Epoch  48  - Average loss =  0.007976124731288722\n",
      "Epoch  49  - Average loss =  0.007777640508367567\n"
     ]
    }
   ],
   "source": [
    "epochs = 50\n",
    "for i in range(epochs):\n",
    "    loss = 0.0\n",
    "    for X, y in zip(X_train, y_train_one_hot):\n",
    "        mlp.forward(X)\n",
    "        loss += cross_entropy(mlp.layers[-1].get_output(), y)\n",
    "        grads_w, grads_b = mlp.backward(y)\n",
    "        optimizer.step(mlp.layers, grads_w, grads_b)\n",
    "    loss /= len(X_train)\n",
    "    print('Epoch ', i, ' - Average loss = ', loss)"
   ],
   "metadata": {
    "collapsed": false
   }
  },
  {
   "cell_type": "code",
   "execution_count": 9,
   "outputs": [
    {
     "name": "stdout",
     "output_type": "stream",
     "text": [
      "Prediction:  [0.    0.    0.    0.    0.    0.005 0.    0.001 0.991 0.003]\n",
      "True Label:  [0 0 0 0 0 0 0 0 1 0]\n"
     ]
    }
   ],
   "source": [
    "n = 0\n",
    "mlp.forward(X_test[n])\n",
    "np.set_printoptions(precision=3, suppress=True)\n",
    "print('Prediction: ', softmax(mlp.layers[-1].get_output()))\n",
    "print('True Label: ', y_test_one_hot[n])"
   ],
   "metadata": {
    "collapsed": false
   }
  },
  {
   "cell_type": "code",
   "execution_count": null,
   "outputs": [],
   "source": [],
   "metadata": {
    "collapsed": false
   }
  }
 ],
 "metadata": {
  "kernelspec": {
   "display_name": "Python 3",
   "language": "python",
   "name": "python3"
  },
  "language_info": {
   "codemirror_mode": {
    "name": "ipython",
    "version": 2
   },
   "file_extension": ".py",
   "mimetype": "text/x-python",
   "name": "python",
   "nbconvert_exporter": "python",
   "pygments_lexer": "ipython2",
   "version": "2.7.6"
  }
 },
 "nbformat": 4,
 "nbformat_minor": 0
}
